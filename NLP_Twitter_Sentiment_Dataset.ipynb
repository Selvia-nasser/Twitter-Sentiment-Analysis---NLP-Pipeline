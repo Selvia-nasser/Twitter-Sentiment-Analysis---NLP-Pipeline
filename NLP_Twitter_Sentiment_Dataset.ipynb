{
  "nbformat": 4,
  "nbformat_minor": 0,
  "metadata": {
    "colab": {
      "provenance": []
    },
    "kernelspec": {
      "name": "python3",
      "display_name": "Python 3"
    },
    "language_info": {
      "name": "python"
    }
  },
  "cells": [
    {
      "cell_type": "markdown",
      "source": [
        "# NLP Lab Task — Preprocessing to Deployment with Twitter Sentiment Dataset\n",
        "\n",
        "## Overview\n",
        "\n",
        "This lab takes students through the **entire NLP pipeline** using a **Twitter Sentiment Analysis dataset** (tweets labeled as positive, negative, or neutral). Students will preprocess the data, represent it using multiple methods, train classical machine learning models, evaluate their results, and finally build a small API for deployment.\n",
        "\n",
        "---\n",
        "\n",
        "## Learning Objectives\n",
        "\n",
        "* Apply text preprocessing (regex, case folding, tokenization, stopword removal, punctuation handling).\n",
        "* Compare stemming and lemmatization, and use POS tagging to analyze counts of nouns, verbs, and adjectives.\n",
        "* Build text representations using **Bag-of-Words**, **TF–IDF**, and **Word2Vec**.\n",
        "* Train classical ML models inside an sklearn **Pipeline**.\n",
        "* Evaluate models with standard metrics and perform basic error analysis.\n",
        "* Save a trained pipeline and build a simple API to serve predictions.\n",
        "\n",
        "---\n",
        "\n",
        "## Dataset\n",
        "\n",
        "We will use the **Sentiment140 Twitter dataset** (1.6M tweets, labeled positive/negative). For simplicity, you can work with a smaller balanced subset (e.g., 10k–20k tweets). This dataset is widely used for sentiment analysis and contains real, noisy text with mentions, hashtags, and emoticons.\n",
        "\n",
        "Dataset link: [Sentiment140](http://help.sentiment140.com/for-students/)\n",
        "\n",
        "---\n",
        "\n",
        "## Step-by-Step Tasks\n",
        "\n",
        "### 1) Exploratory Data Analysis (EDA)\n",
        "\n",
        "* Load dataset, show class distribution, tweet length histogram, and a few sample tweets.\n",
        "* Deliverable: 3 plots (class balance, length histogram, top frequent tokens) + 5 example tweets.\n",
        "\n",
        "### 2) Regex Cleaning\n",
        "\n",
        "* Remove URLs, mentions (@user), hashtags, emojis (or replace with tokens), and extra whitespace.\n",
        "* Show a before-and-after example for at least 3 tweets.\n",
        "\n",
        "### 3) Case Folding & Tokenization\n",
        "\n",
        "* Convert all text to lowercase.\n",
        "* Tokenize tweets using NLTK or spaCy.\n",
        "* Compare vocabulary size before and after cleaning.\n",
        "\n",
        "### 4) Stopwords, Punctuation, and Numbers\n",
        "\n",
        "* Remove stopwords (with NLTK list, customizable).\n",
        "* Decide how to handle punctuation and numbers (remove or replace with `<NUM>`).\n",
        "* Deliverable: short explanation of your choice.\n",
        "\n",
        "### 5) Stemming vs Lemmatization\n",
        "\n",
        "* Use PorterStemmer (stemming) and spaCy lemmatizer.\n",
        "* Show 20 sample words with their stem vs lemma.\n",
        "* Train quick models with both and compare results.\n",
        "\n",
        "### 6) POS Tagging (extra features)\n",
        "\n",
        "* Use spaCy to count nouns, verbs, and adjectives per tweet.\n",
        "* Add these counts as additional numeric features.\n",
        "* Compare model with vs without POS features.\n",
        "\n",
        "### 7) Text Representation\n",
        "\n",
        "* Implement three representations:\n",
        "  1. **Bag-of-Words** (CountVectorizer)\n",
        "  2. **TF–IDF** (TfidfVectorizer)\n",
        "  3. **Word2Vec** (pretrained embeddings, averaged per tweet)\n",
        "* Compare vocabulary sizes and representation dimensions.\n",
        "\n",
        "### 8) Modeling with Pipelines\n",
        "\n",
        "* Use sklearn Pipelines to connect preprocessing + vectorizer + classifier.\n",
        "* Models to try:\n",
        "  * Multinomial Naive Bayes (for BoW/TF–IDF)\n",
        "  * Logistic Regression\n",
        "  * Linear SVM\n",
        "* Deliverable: comparison table (accuracy, F1-score).\n",
        "\n",
        "### 9) Evaluation & Error Analysis\n",
        "\n",
        "* Use held-out test set.\n",
        "* Metrics: accuracy, precision, recall, F1, confusion matrix.\n",
        "* Show 10 misclassified tweets and discuss why they may be difficult.\n",
        "\n",
        "### 10) Save Model Pipeline\n",
        "\n",
        "* Save the best pipeline using `joblib` or `pickle`.\n",
        "* Deliverable: `sentiment_model.pkl` file.\n",
        "\n",
        "### 11) Build a Simple API (Deployment Step)\n",
        "\n",
        "* Create a small Flask API with one endpoint `/predict` that accepts a tweet as input and returns sentiment prediction.\n",
        "* The API should load the saved pipeline and make predictions.\n",
        "* Deliverable: `app.py` with Flask code + test with a sample curl or Postman request.\n",
        "\n",
        "---\n",
        "\n",
        "## Deliverables\n",
        "\n",
        "1. Jupyter Notebook with step-by-step tasks, results, and code.\n",
        "2. Comparison tables for preprocessing choices and representations.\n",
        "3. Saved pipeline file (`.pkl`).\n",
        "4. Flask API script (`app.py`).\n",
        "5. Short report in markdown cell summarizing preprocessing, modeling choices, and results.\n",
        "\n",
        "---\n",
        "\n",
        "This streamlined lab ensures students get hands-on experience with **real-world text preprocessing, classical modeling, and deployment of NLP systems**.\n"
      ],
      "metadata": {
        "id": "dpKLxZ8mNTGE"
      }
    },
    {
      "cell_type": "markdown",
      "source": [
        "### 1. Load the Dataset\n",
        "\n",
        "We will use the **Sentiment140 Twitter Sentiment dataset**.  \n",
        "It contains 1.6 million tweets labeled as positive (4) or negative (0).  \n",
        "For this lab, we will load a smaller subset (e.g., 20,000 rows) for faster experimentation.\n",
        "\n",
        "```python\n",
        "import pandas as pd\n",
        "\n",
        "# Column order for Sentiment140 dataset:\n",
        "# 0 - target (0 = negative, 4 = positive)\n",
        "# 1 - ids\n",
        "# 2 - date\n",
        "# 3 - flag\n",
        "# 4 - user\n",
        "# 5 - text (tweet)\n",
        "\n",
        "# Update the file path if needed\n",
        "file_path = \"sentiment140.csv\"\n",
        "\n",
        "# Load with proper encoding\n",
        "df = pd.read_csv(file_path, encoding='latin-1', header=None)\n",
        "\n",
        "# Assign column names\n",
        "df.columns = [\"target\", \"id\", \"date\", \"flag\", \"user\", \"text\"]\n",
        "\n",
        "# Map target labels: 0 → negative, 4 → positive\n",
        "df[\"target\"] = df[\"target\"].map({0: \"negative\", 4: \"positive\"})\n",
        "\n",
        "# Take a smaller sample for experiments (optional)\n",
        "df = df.sample(20000, random_state=42).reset_index(drop=True)\n",
        "\n",
        "# Quick check\n",
        "print(df.shape)\n",
        "df.head()\n"
      ],
      "metadata": {
        "id": "g5JhT6qqMzOr"
      }
    },
    {
      "cell_type": "code",
      "execution_count": 1,
      "metadata": {
        "colab": {
          "base_uri": "https://localhost:8080/"
        },
        "id": "FckTkNZyMqJw",
        "outputId": "796f9af5-29c6-4e6b-d8d6-d7368c3d16a0"
      },
      "outputs": [
        {
          "output_type": "stream",
          "name": "stdout",
          "text": [
            "(20000, 6)\n",
            "Training set: (1600000, 6)\n",
            "     target          id                          date      flag  \\\n",
            "0  negative  1467810369  Mon Apr 06 22:19:45 PDT 2009  NO_QUERY   \n",
            "1  negative  1467810672  Mon Apr 06 22:19:49 PDT 2009  NO_QUERY   \n",
            "2  negative  1467810917  Mon Apr 06 22:19:53 PDT 2009  NO_QUERY   \n",
            "3  negative  1467811184  Mon Apr 06 22:19:57 PDT 2009  NO_QUERY   \n",
            "4  negative  1467811193  Mon Apr 06 22:19:57 PDT 2009  NO_QUERY   \n",
            "\n",
            "              user                                               text  \n",
            "0  _TheSpecialOne_  @switchfoot http://twitpic.com/2y1zl - Awww, t...  \n",
            "1    scotthamilton  is upset that he can't update his Facebook by ...  \n",
            "2         mattycus  @Kenichan I dived many times for the ball. Man...  \n",
            "3          ElleCTF    my whole body feels itchy and like its on fire   \n",
            "4           Karoli  @nationwideclass no, it's not behaving at all....  \n",
            "Test set: (498, 6)\n",
            "     target  id                          date     flag      user  \\\n",
            "0  positive   3  Mon May 11 03:17:40 UTC 2009  kindle2    tpryan   \n",
            "1  positive   4  Mon May 11 03:18:03 UTC 2009  kindle2    vcu451   \n",
            "2  positive   5  Mon May 11 03:18:54 UTC 2009  kindle2    chadfu   \n",
            "3  positive   6  Mon May 11 03:19:04 UTC 2009  kindle2     SIX15   \n",
            "4  positive   7  Mon May 11 03:21:41 UTC 2009  kindle2  yamarama   \n",
            "\n",
            "                                                text  \n",
            "0  @stellargirl I loooooooovvvvvveee my Kindle2. ...  \n",
            "1  Reading my kindle2...  Love it... Lee childs i...  \n",
            "2  Ok, first assesment of the #kindle2 ...it fuck...  \n",
            "3  @kenburbary You'll love your Kindle2. I've had...  \n",
            "4  @mikefish  Fair enough. But i have the Kindle2...  \n"
          ]
        }
      ],
      "source": [
        "import pandas as pd\n",
        "import zipfile\n",
        "import os\n",
        "import requests\n",
        "\n",
        "# Step 1: Download the dataset (if not already downloaded)\n",
        "url = \"https://cs.stanford.edu/people/alecmgo/trainingandtestdata.zip\"\n",
        "zip_path = \"trainingandtestdata.zip\"\n",
        "\n",
        "if not os.path.exists(zip_path):\n",
        "    print(\"Downloading dataset...\")\n",
        "    r = requests.get(url)\n",
        "    with open(zip_path, \"wb\") as f:\n",
        "        f.write(r.content)\n",
        "\n",
        "# Step 2: Unzip the file\n",
        "with zipfile.ZipFile(zip_path, \"r\") as zip_ref:\n",
        "    zip_ref.extractall(\".\")\n",
        "\n",
        "# Step 3: Load training data\n",
        "file_path = \"training.1600000.processed.noemoticon.csv\"\n",
        "\n",
        "df = pd.read_csv(file_path, encoding=\"latin-1\", header=None)\n",
        "df.columns = [\"target\", \"id\", \"date\", \"flag\", \"user\", \"text\"]\n",
        "\n",
        "# Map sentiment labels: 0 = negative, 4 = positive\n",
        "df[\"target\"] = df[\"target\"].map({0: \"negative\", 4: \"positive\"})\n",
        "\n",
        "# Optional: sample a smaller dataset for quicker experiments\n",
        "df = df.sample(20000, random_state=42).reset_index(drop=True)\n",
        "\n",
        "# Preview the data\n",
        "print(df.shape)\n",
        "df.head()\n",
        "\n",
        "\n",
        "# Load training set\n",
        "train_path = \"training.1600000.processed.noemoticon.csv\"\n",
        "train_df = pd.read_csv(train_path, encoding=\"latin-1\", header=None)\n",
        "train_df.columns = [\"target\", \"id\", \"date\", \"flag\", \"user\", \"text\"]\n",
        "train_df[\"target\"] = train_df[\"target\"].map({0: \"negative\", 4: \"positive\"})\n",
        "\n",
        "print(\"Training set:\", train_df.shape)\n",
        "print(train_df.head())\n",
        "\n",
        "# Load manual test set\n",
        "test_path = \"testdata.manual.2009.06.14.csv\"\n",
        "test_df = pd.read_csv(test_path, encoding=\"latin-1\", header=None)\n",
        "test_df.columns = [\"target\", \"id\", \"date\", \"flag\", \"user\", \"text\"]\n",
        "\n",
        "# This test set has labels 0 (negative), 2 (neutral), 4 (positive)\n",
        "test_df[\"target\"] = test_df[\"target\"].map({0: \"negative\", 2: \"neutral\", 4: \"positive\"})\n",
        "\n",
        "print(\"Test set:\", test_df.shape)\n",
        "print(test_df.head())\n"
      ]
    },
    {
      "cell_type": "markdown",
      "source": [
        "# **Setup**"
      ],
      "metadata": {
        "id": "QiKI_qxHMbaW"
      }
    },
    {
      "cell_type": "code",
      "source": [
        "# IMPORTS\n",
        "import numpy as np\n",
        "import matplotlib.pyplot as plt\n",
        "import seaborn as sns\n",
        "import re\n",
        "import warnings\n",
        "warnings.filterwarnings('ignore')\n",
        "\n",
        "# NLP Libraries\n",
        "import nltk\n",
        "from nltk.corpus import stopwords\n",
        "from nltk.stem import PorterStemmer\n",
        "from nltk.tokenize import word_tokenize\n",
        "import spacy\n",
        "\n",
        "# Sklearn\n",
        "from sklearn.model_selection import train_test_split\n",
        "from sklearn.feature_extraction.text import CountVectorizer, TfidfVectorizer\n",
        "from sklearn.naive_bayes import MultinomialNB\n",
        "from sklearn.linear_model import LogisticRegression\n",
        "from sklearn.svm import LinearSVC\n",
        "from sklearn.pipeline import Pipeline\n",
        "from sklearn.metrics import accuracy_score, classification_report, confusion_matrix, f1_score\n",
        "\n",
        "# Word2Vec\n",
        "from gensim.models import Word2Vec\n",
        "\n",
        "# Save model\n",
        "import joblib"
      ],
      "metadata": {
        "id": "jZgsBciEMrFj"
      },
      "execution_count": 2,
      "outputs": []
    },
    {
      "cell_type": "code",
      "source": [
        "# Download NLTK data\n",
        "nltk.download('punkt')\n",
        "nltk.download('punkt_tab')\n",
        "nltk.download('stopwords')\n",
        "nltk.download('averaged_perceptron_tagger')\n",
        "\n",
        "# Load spaCy\n",
        "nlp = spacy.load('en_core_web_sm')"
      ],
      "metadata": {
        "colab": {
          "base_uri": "https://localhost:8080/"
        },
        "id": "xunI_CV-MWY0",
        "outputId": "b253dbb9-aa00-4e62-be18-c8285f3c3b38"
      },
      "execution_count": 28,
      "outputs": [
        {
          "output_type": "stream",
          "name": "stderr",
          "text": [
            "[nltk_data] Downloading package punkt to /root/nltk_data...\n",
            "[nltk_data]   Package punkt is already up-to-date!\n",
            "[nltk_data] Downloading package punkt_tab to /root/nltk_data...\n",
            "[nltk_data]   Unzipping tokenizers/punkt_tab.zip.\n",
            "[nltk_data] Downloading package stopwords to /root/nltk_data...\n",
            "[nltk_data]   Package stopwords is already up-to-date!\n",
            "[nltk_data] Downloading package averaged_perceptron_tagger to\n",
            "[nltk_data]     /root/nltk_data...\n",
            "[nltk_data]   Package averaged_perceptron_tagger is already up-to-\n",
            "[nltk_data]       date!\n"
          ]
        }
      ]
    },
    {
      "cell_type": "markdown",
      "source": [
        "# **TASK 1: EXPLORATORY DATA ANALYSIS (EDA)**"
      ],
      "metadata": {
        "id": "bG0TLjmJMpFs"
      }
    },
    {
      "cell_type": "code",
      "source": [
        "print(f\"Dataset shape: {df.shape}\")\n",
        "df.head()"
      ],
      "metadata": {
        "colab": {
          "base_uri": "https://localhost:8080/",
          "height": 223
        },
        "id": "E5n4G99jMOOV",
        "outputId": "b934af6d-29fe-4445-b1a8-b1fad0d1abb4"
      },
      "execution_count": 4,
      "outputs": [
        {
          "output_type": "stream",
          "name": "stdout",
          "text": [
            "Dataset shape: (20000, 6)\n"
          ]
        },
        {
          "output_type": "execute_result",
          "data": {
            "text/plain": [
              "     target          id                          date      flag  \\\n",
              "0  negative  2200003196  Tue Jun 16 18:18:12 PDT 2009  NO_QUERY   \n",
              "1  negative  1467998485  Mon Apr 06 23:11:14 PDT 2009  NO_QUERY   \n",
              "2  negative  2300048954  Tue Jun 23 13:40:11 PDT 2009  NO_QUERY   \n",
              "3  negative  1993474027  Mon Jun 01 10:26:07 PDT 2009  NO_QUERY   \n",
              "4  negative  2256550904  Sat Jun 20 12:56:51 PDT 2009  NO_QUERY   \n",
              "\n",
              "              user                                               text  \n",
              "0  LaLaLindsey0609             @chrishasboobs AHHH I HOPE YOUR OK!!!   \n",
              "1      sexygrneyes  @misstoriblack cool , i have no tweet apps  fo...  \n",
              "2       sammydearr  @TiannaChaos i know  just family drama. its la...  \n",
              "3      Lamb_Leanne  School email won't open  and I have geography ...  \n",
              "4      yogicerdito                             upper airways problem   "
            ],
            "text/html": [
              "\n",
              "  <div id=\"df-3593d4f7-d7cc-4662-af7a-f030ee46939f\" class=\"colab-df-container\">\n",
              "    <div>\n",
              "<style scoped>\n",
              "    .dataframe tbody tr th:only-of-type {\n",
              "        vertical-align: middle;\n",
              "    }\n",
              "\n",
              "    .dataframe tbody tr th {\n",
              "        vertical-align: top;\n",
              "    }\n",
              "\n",
              "    .dataframe thead th {\n",
              "        text-align: right;\n",
              "    }\n",
              "</style>\n",
              "<table border=\"1\" class=\"dataframe\">\n",
              "  <thead>\n",
              "    <tr style=\"text-align: right;\">\n",
              "      <th></th>\n",
              "      <th>target</th>\n",
              "      <th>id</th>\n",
              "      <th>date</th>\n",
              "      <th>flag</th>\n",
              "      <th>user</th>\n",
              "      <th>text</th>\n",
              "    </tr>\n",
              "  </thead>\n",
              "  <tbody>\n",
              "    <tr>\n",
              "      <th>0</th>\n",
              "      <td>negative</td>\n",
              "      <td>2200003196</td>\n",
              "      <td>Tue Jun 16 18:18:12 PDT 2009</td>\n",
              "      <td>NO_QUERY</td>\n",
              "      <td>LaLaLindsey0609</td>\n",
              "      <td>@chrishasboobs AHHH I HOPE YOUR OK!!!</td>\n",
              "    </tr>\n",
              "    <tr>\n",
              "      <th>1</th>\n",
              "      <td>negative</td>\n",
              "      <td>1467998485</td>\n",
              "      <td>Mon Apr 06 23:11:14 PDT 2009</td>\n",
              "      <td>NO_QUERY</td>\n",
              "      <td>sexygrneyes</td>\n",
              "      <td>@misstoriblack cool , i have no tweet apps  fo...</td>\n",
              "    </tr>\n",
              "    <tr>\n",
              "      <th>2</th>\n",
              "      <td>negative</td>\n",
              "      <td>2300048954</td>\n",
              "      <td>Tue Jun 23 13:40:11 PDT 2009</td>\n",
              "      <td>NO_QUERY</td>\n",
              "      <td>sammydearr</td>\n",
              "      <td>@TiannaChaos i know  just family drama. its la...</td>\n",
              "    </tr>\n",
              "    <tr>\n",
              "      <th>3</th>\n",
              "      <td>negative</td>\n",
              "      <td>1993474027</td>\n",
              "      <td>Mon Jun 01 10:26:07 PDT 2009</td>\n",
              "      <td>NO_QUERY</td>\n",
              "      <td>Lamb_Leanne</td>\n",
              "      <td>School email won't open  and I have geography ...</td>\n",
              "    </tr>\n",
              "    <tr>\n",
              "      <th>4</th>\n",
              "      <td>negative</td>\n",
              "      <td>2256550904</td>\n",
              "      <td>Sat Jun 20 12:56:51 PDT 2009</td>\n",
              "      <td>NO_QUERY</td>\n",
              "      <td>yogicerdito</td>\n",
              "      <td>upper airways problem</td>\n",
              "    </tr>\n",
              "  </tbody>\n",
              "</table>\n",
              "</div>\n",
              "    <div class=\"colab-df-buttons\">\n",
              "\n",
              "  <div class=\"colab-df-container\">\n",
              "    <button class=\"colab-df-convert\" onclick=\"convertToInteractive('df-3593d4f7-d7cc-4662-af7a-f030ee46939f')\"\n",
              "            title=\"Convert this dataframe to an interactive table.\"\n",
              "            style=\"display:none;\">\n",
              "\n",
              "  <svg xmlns=\"http://www.w3.org/2000/svg\" height=\"24px\" viewBox=\"0 -960 960 960\">\n",
              "    <path d=\"M120-120v-720h720v720H120Zm60-500h600v-160H180v160Zm220 220h160v-160H400v160Zm0 220h160v-160H400v160ZM180-400h160v-160H180v160Zm440 0h160v-160H620v160ZM180-180h160v-160H180v160Zm440 0h160v-160H620v160Z\"/>\n",
              "  </svg>\n",
              "    </button>\n",
              "\n",
              "  <style>\n",
              "    .colab-df-container {\n",
              "      display:flex;\n",
              "      gap: 12px;\n",
              "    }\n",
              "\n",
              "    .colab-df-convert {\n",
              "      background-color: #E8F0FE;\n",
              "      border: none;\n",
              "      border-radius: 50%;\n",
              "      cursor: pointer;\n",
              "      display: none;\n",
              "      fill: #1967D2;\n",
              "      height: 32px;\n",
              "      padding: 0 0 0 0;\n",
              "      width: 32px;\n",
              "    }\n",
              "\n",
              "    .colab-df-convert:hover {\n",
              "      background-color: #E2EBFA;\n",
              "      box-shadow: 0px 1px 2px rgba(60, 64, 67, 0.3), 0px 1px 3px 1px rgba(60, 64, 67, 0.15);\n",
              "      fill: #174EA6;\n",
              "    }\n",
              "\n",
              "    .colab-df-buttons div {\n",
              "      margin-bottom: 4px;\n",
              "    }\n",
              "\n",
              "    [theme=dark] .colab-df-convert {\n",
              "      background-color: #3B4455;\n",
              "      fill: #D2E3FC;\n",
              "    }\n",
              "\n",
              "    [theme=dark] .colab-df-convert:hover {\n",
              "      background-color: #434B5C;\n",
              "      box-shadow: 0px 1px 3px 1px rgba(0, 0, 0, 0.15);\n",
              "      filter: drop-shadow(0px 1px 2px rgba(0, 0, 0, 0.3));\n",
              "      fill: #FFFFFF;\n",
              "    }\n",
              "  </style>\n",
              "\n",
              "    <script>\n",
              "      const buttonEl =\n",
              "        document.querySelector('#df-3593d4f7-d7cc-4662-af7a-f030ee46939f button.colab-df-convert');\n",
              "      buttonEl.style.display =\n",
              "        google.colab.kernel.accessAllowed ? 'block' : 'none';\n",
              "\n",
              "      async function convertToInteractive(key) {\n",
              "        const element = document.querySelector('#df-3593d4f7-d7cc-4662-af7a-f030ee46939f');\n",
              "        const dataTable =\n",
              "          await google.colab.kernel.invokeFunction('convertToInteractive',\n",
              "                                                    [key], {});\n",
              "        if (!dataTable) return;\n",
              "\n",
              "        const docLinkHtml = 'Like what you see? Visit the ' +\n",
              "          '<a target=\"_blank\" href=https://colab.research.google.com/notebooks/data_table.ipynb>data table notebook</a>'\n",
              "          + ' to learn more about interactive tables.';\n",
              "        element.innerHTML = '';\n",
              "        dataTable['output_type'] = 'display_data';\n",
              "        await google.colab.output.renderOutput(dataTable, element);\n",
              "        const docLink = document.createElement('div');\n",
              "        docLink.innerHTML = docLinkHtml;\n",
              "        element.appendChild(docLink);\n",
              "      }\n",
              "    </script>\n",
              "  </div>\n",
              "\n",
              "\n",
              "    <div id=\"df-35447133-971f-4e80-960c-ff46950dca7a\">\n",
              "      <button class=\"colab-df-quickchart\" onclick=\"quickchart('df-35447133-971f-4e80-960c-ff46950dca7a')\"\n",
              "                title=\"Suggest charts\"\n",
              "                style=\"display:none;\">\n",
              "\n",
              "<svg xmlns=\"http://www.w3.org/2000/svg\" height=\"24px\"viewBox=\"0 0 24 24\"\n",
              "     width=\"24px\">\n",
              "    <g>\n",
              "        <path d=\"M19 3H5c-1.1 0-2 .9-2 2v14c0 1.1.9 2 2 2h14c1.1 0 2-.9 2-2V5c0-1.1-.9-2-2-2zM9 17H7v-7h2v7zm4 0h-2V7h2v10zm4 0h-2v-4h2v4z\"/>\n",
              "    </g>\n",
              "</svg>\n",
              "      </button>\n",
              "\n",
              "<style>\n",
              "  .colab-df-quickchart {\n",
              "      --bg-color: #E8F0FE;\n",
              "      --fill-color: #1967D2;\n",
              "      --hover-bg-color: #E2EBFA;\n",
              "      --hover-fill-color: #174EA6;\n",
              "      --disabled-fill-color: #AAA;\n",
              "      --disabled-bg-color: #DDD;\n",
              "  }\n",
              "\n",
              "  [theme=dark] .colab-df-quickchart {\n",
              "      --bg-color: #3B4455;\n",
              "      --fill-color: #D2E3FC;\n",
              "      --hover-bg-color: #434B5C;\n",
              "      --hover-fill-color: #FFFFFF;\n",
              "      --disabled-bg-color: #3B4455;\n",
              "      --disabled-fill-color: #666;\n",
              "  }\n",
              "\n",
              "  .colab-df-quickchart {\n",
              "    background-color: var(--bg-color);\n",
              "    border: none;\n",
              "    border-radius: 50%;\n",
              "    cursor: pointer;\n",
              "    display: none;\n",
              "    fill: var(--fill-color);\n",
              "    height: 32px;\n",
              "    padding: 0;\n",
              "    width: 32px;\n",
              "  }\n",
              "\n",
              "  .colab-df-quickchart:hover {\n",
              "    background-color: var(--hover-bg-color);\n",
              "    box-shadow: 0 1px 2px rgba(60, 64, 67, 0.3), 0 1px 3px 1px rgba(60, 64, 67, 0.15);\n",
              "    fill: var(--button-hover-fill-color);\n",
              "  }\n",
              "\n",
              "  .colab-df-quickchart-complete:disabled,\n",
              "  .colab-df-quickchart-complete:disabled:hover {\n",
              "    background-color: var(--disabled-bg-color);\n",
              "    fill: var(--disabled-fill-color);\n",
              "    box-shadow: none;\n",
              "  }\n",
              "\n",
              "  .colab-df-spinner {\n",
              "    border: 2px solid var(--fill-color);\n",
              "    border-color: transparent;\n",
              "    border-bottom-color: var(--fill-color);\n",
              "    animation:\n",
              "      spin 1s steps(1) infinite;\n",
              "  }\n",
              "\n",
              "  @keyframes spin {\n",
              "    0% {\n",
              "      border-color: transparent;\n",
              "      border-bottom-color: var(--fill-color);\n",
              "      border-left-color: var(--fill-color);\n",
              "    }\n",
              "    20% {\n",
              "      border-color: transparent;\n",
              "      border-left-color: var(--fill-color);\n",
              "      border-top-color: var(--fill-color);\n",
              "    }\n",
              "    30% {\n",
              "      border-color: transparent;\n",
              "      border-left-color: var(--fill-color);\n",
              "      border-top-color: var(--fill-color);\n",
              "      border-right-color: var(--fill-color);\n",
              "    }\n",
              "    40% {\n",
              "      border-color: transparent;\n",
              "      border-right-color: var(--fill-color);\n",
              "      border-top-color: var(--fill-color);\n",
              "    }\n",
              "    60% {\n",
              "      border-color: transparent;\n",
              "      border-right-color: var(--fill-color);\n",
              "    }\n",
              "    80% {\n",
              "      border-color: transparent;\n",
              "      border-right-color: var(--fill-color);\n",
              "      border-bottom-color: var(--fill-color);\n",
              "    }\n",
              "    90% {\n",
              "      border-color: transparent;\n",
              "      border-bottom-color: var(--fill-color);\n",
              "    }\n",
              "  }\n",
              "</style>\n",
              "\n",
              "      <script>\n",
              "        async function quickchart(key) {\n",
              "          const quickchartButtonEl =\n",
              "            document.querySelector('#' + key + ' button');\n",
              "          quickchartButtonEl.disabled = true;  // To prevent multiple clicks.\n",
              "          quickchartButtonEl.classList.add('colab-df-spinner');\n",
              "          try {\n",
              "            const charts = await google.colab.kernel.invokeFunction(\n",
              "                'suggestCharts', [key], {});\n",
              "          } catch (error) {\n",
              "            console.error('Error during call to suggestCharts:', error);\n",
              "          }\n",
              "          quickchartButtonEl.classList.remove('colab-df-spinner');\n",
              "          quickchartButtonEl.classList.add('colab-df-quickchart-complete');\n",
              "        }\n",
              "        (() => {\n",
              "          let quickchartButtonEl =\n",
              "            document.querySelector('#df-35447133-971f-4e80-960c-ff46950dca7a button');\n",
              "          quickchartButtonEl.style.display =\n",
              "            google.colab.kernel.accessAllowed ? 'block' : 'none';\n",
              "        })();\n",
              "      </script>\n",
              "    </div>\n",
              "\n",
              "    </div>\n",
              "  </div>\n"
            ],
            "application/vnd.google.colaboratory.intrinsic+json": {
              "type": "dataframe",
              "variable_name": "df",
              "summary": "{\n  \"name\": \"df\",\n  \"rows\": 20000,\n  \"fields\": [\n    {\n      \"column\": \"target\",\n      \"properties\": {\n        \"dtype\": \"category\",\n        \"num_unique_values\": 2,\n        \"samples\": [\n          \"positive\",\n          \"negative\"\n        ],\n        \"semantic_type\": \"\",\n        \"description\": \"\"\n      }\n    },\n    {\n      \"column\": \"id\",\n      \"properties\": {\n        \"dtype\": \"number\",\n        \"std\": 193886700,\n        \"min\": 1467815753,\n        \"max\": 2329178558,\n        \"num_unique_values\": 19999,\n        \"samples\": [\n          2218868086,\n          1999759768\n        ],\n        \"semantic_type\": \"\",\n        \"description\": \"\"\n      }\n    },\n    {\n      \"column\": \"date\",\n      \"properties\": {\n        \"dtype\": \"object\",\n        \"num_unique_values\": 19709,\n        \"samples\": [\n          \"Sun May 31 10:41:37 PDT 2009\",\n          \"Sun Jun 07 18:51:40 PDT 2009\"\n        ],\n        \"semantic_type\": \"\",\n        \"description\": \"\"\n      }\n    },\n    {\n      \"column\": \"flag\",\n      \"properties\": {\n        \"dtype\": \"category\",\n        \"num_unique_values\": 1,\n        \"samples\": [\n          \"NO_QUERY\"\n        ],\n        \"semantic_type\": \"\",\n        \"description\": \"\"\n      }\n    },\n    {\n      \"column\": \"user\",\n      \"properties\": {\n        \"dtype\": \"string\",\n        \"num_unique_values\": 18965,\n        \"samples\": [\n          \"LadyMissSonic\"\n        ],\n        \"semantic_type\": \"\",\n        \"description\": \"\"\n      }\n    },\n    {\n      \"column\": \"text\",\n      \"properties\": {\n        \"dtype\": \"string\",\n        \"num_unique_values\": 19982,\n        \"samples\": [\n          \"@gooberbaby13 aww, it's great!  we all should hang out soon.  [;  @bwanalilolath @acely @allisonjones49 thank you!  \"\n        ],\n        \"semantic_type\": \"\",\n        \"description\": \"\"\n      }\n    }\n  ]\n}"
            }
          },
          "metadata": {},
          "execution_count": 4
        }
      ]
    },
    {
      "cell_type": "code",
      "source": [
        "# Class distribution\n",
        "df['target'].value_counts()"
      ],
      "metadata": {
        "colab": {
          "base_uri": "https://localhost:8080/",
          "height": 178
        },
        "id": "LCvILDrLM6Id",
        "outputId": "57d080d4-28a1-4647-e666-dbe385d2600a"
      },
      "execution_count": 6,
      "outputs": [
        {
          "output_type": "execute_result",
          "data": {
            "text/plain": [
              "target\n",
              "positive    10058\n",
              "negative     9942\n",
              "Name: count, dtype: int64"
            ],
            "text/html": [
              "<div>\n",
              "<style scoped>\n",
              "    .dataframe tbody tr th:only-of-type {\n",
              "        vertical-align: middle;\n",
              "    }\n",
              "\n",
              "    .dataframe tbody tr th {\n",
              "        vertical-align: top;\n",
              "    }\n",
              "\n",
              "    .dataframe thead th {\n",
              "        text-align: right;\n",
              "    }\n",
              "</style>\n",
              "<table border=\"1\" class=\"dataframe\">\n",
              "  <thead>\n",
              "    <tr style=\"text-align: right;\">\n",
              "      <th></th>\n",
              "      <th>count</th>\n",
              "    </tr>\n",
              "    <tr>\n",
              "      <th>target</th>\n",
              "      <th></th>\n",
              "    </tr>\n",
              "  </thead>\n",
              "  <tbody>\n",
              "    <tr>\n",
              "      <th>positive</th>\n",
              "      <td>10058</td>\n",
              "    </tr>\n",
              "    <tr>\n",
              "      <th>negative</th>\n",
              "      <td>9942</td>\n",
              "    </tr>\n",
              "  </tbody>\n",
              "</table>\n",
              "</div><br><label><b>dtype:</b> int64</label>"
            ]
          },
          "metadata": {},
          "execution_count": 6
        }
      ]
    },
    {
      "cell_type": "code",
      "source": [
        "# Class balance\n",
        "plt.figure(figsize=(6, 4))\n",
        "df['target'].value_counts().plot(kind='bar', color=['red', 'green'])\n",
        "plt.title('Class Distribution')\n",
        "plt.xlabel('Sentiment')\n",
        "plt.ylabel('Count')\n",
        "plt.xticks(rotation=0)\n",
        "plt.tight_layout()\n",
        "plt.savefig('class_balance.png')\n",
        "plt.show()"
      ],
      "metadata": {
        "colab": {
          "base_uri": "https://localhost:8080/",
          "height": 407
        },
        "id": "_4MgQhl5M-CY",
        "outputId": "55fd031a-255e-4829-e986-2c89142d173d"
      },
      "execution_count": 11,
      "outputs": [
        {
          "output_type": "display_data",
          "data": {
            "text/plain": [
              "<Figure size 600x400 with 1 Axes>"
            ],
            "image/png": "[encoded data removed]"
          },
          "metadata": {}
        }
      ]
    },
    {
      "cell_type": "code",
      "source": [
        "# Tweet length\n",
        "df['length'] = df['text'].apply(len)\n",
        "plt.figure(figsize=(6, 4))\n",
        "plt.hist(df['length'], bins=50, color='lavender', edgecolor='black')\n",
        "plt.title('Tweet Length Distribution')\n",
        "plt.xlabel('Characters')\n",
        "plt.ylabel('Frequency')\n",
        "plt.axvline(df['length'].mean(), color='red', linestyle='--', label=f'Mean: {df[\"length\"].mean():.0f}')\n",
        "plt.legend()\n",
        "plt.tight_layout()\n",
        "plt.savefig('Tweet_length.png')\n",
        "plt.show()"
      ],
      "metadata": {
        "colab": {
          "base_uri": "https://localhost:8080/",
          "height": 407
        },
        "id": "6HdFe440NCxc",
        "outputId": "90629cd8-5b4a-43e8-d1bd-8a058c902f1d"
      },
      "execution_count": 12,
      "outputs": [
        {
          "output_type": "display_data",
          "data": {
            "text/plain": [
              "<Figure size 600x400 with 1 Axes>"
            ],
            "image/png": "[encoded data removed]"
          },
          "metadata": {}
        }
      ]
    },
    {
      "cell_type": "code",
      "source": [
        "# Top words\n",
        "all_text = ' '.join(df['text']).lower().split()\n",
        "word_counts = pd.Series(all_text).value_counts().head(20)\n",
        "plt.figure(figsize=(8, 6))\n",
        "word_counts.plot(kind='barh', cmap='viridis')\n",
        "plt.title('Top 20 Most Frequent Words')\n",
        "plt.xlabel('Frequency')\n",
        "plt.gca().invert_yaxis()\n",
        "plt.tight_layout()\n",
        "plt.savefig('top_words.png')\n",
        "plt.show()"
      ],
      "metadata": {
        "colab": {
          "base_uri": "https://localhost:8080/",
          "height": 607
        },
        "id": "1xzPqOdBNFcZ",
        "outputId": "5c931686-011d-4678-b1ae-aa81ca134bd1"
      },
      "execution_count": 18,
      "outputs": [
        {
          "output_type": "display_data",
          "data": {
            "text/plain": [
              "<Figure size 800x600 with 1 Axes>"
            ],
            "image/png": "[encoded data removed]"
          },
          "metadata": {}
        }
      ]
    },
    {
      "cell_type": "code",
      "source": [
        "# Show 5 sample tweets\n",
        "for i in range(5):\n",
        "    print(f\"\\n{i+1}. [{df.iloc[i]['target'].upper()}]\")\n",
        "    print(f\"   {df.iloc[i]['text']}\")"
      ],
      "metadata": {
        "colab": {
          "base_uri": "https://localhost:8080/"
        },
        "id": "k7ogVfkAPHKG",
        "outputId": "67a51fca-99fb-4d05-bc90-8383438fe96b"
      },
      "execution_count": 21,
      "outputs": [
        {
          "output_type": "stream",
          "name": "stdout",
          "text": [
            "\n",
            "1. [NEGATIVE]\n",
            "   @chrishasboobs AHHH I HOPE YOUR OK!!! \n",
            "\n",
            "2. [NEGATIVE]\n",
            "   @misstoriblack cool , i have no tweet apps  for my razr 2\n",
            "\n",
            "3. [NEGATIVE]\n",
            "   @TiannaChaos i know  just family drama. its lame.hey next time u hang out with kim n u guys like have a sleepover or whatever, ill call u\n",
            "\n",
            "4. [NEGATIVE]\n",
            "   School email won't open  and I have geography stuff on there to revise! *Stupid School* :'(\n",
            "\n",
            "5. [NEGATIVE]\n",
            "   upper airways problem \n"
          ]
        }
      ]
    },
    {
      "cell_type": "markdown",
      "source": [
        "# **TASK 2: REGEX CLEANING**"
      ],
      "metadata": {
        "id": "ul6g1WySPlBB"
      }
    },
    {
      "cell_type": "code",
      "source": [
        "# Show 3 examples before cleaning\n",
        "for i in range(3):\n",
        "    print(f\"\\n{i+1}. {df.iloc[i]['text']}\")"
      ],
      "metadata": {
        "colab": {
          "base_uri": "https://localhost:8080/"
        },
        "id": "zIaStc__QRR-",
        "outputId": "bb862354-e570-430a-8545-75df18c414ed"
      },
      "execution_count": 23,
      "outputs": [
        {
          "output_type": "stream",
          "name": "stdout",
          "text": [
            "\n",
            "1. @chrishasboobs AHHH I HOPE YOUR OK!!! \n",
            "\n",
            "2. @misstoriblack cool , i have no tweet apps  for my razr 2\n",
            "\n",
            "3. @TiannaChaos i know  just family drama. its lame.hey next time u hang out with kim n u guys like have a sleepover or whatever, ill call u\n"
          ]
        }
      ]
    },
    {
      "cell_type": "code",
      "source": [
        "# Clean tweets\n",
        "df['cleaned'] = df['text'].copy()\n",
        "\n",
        "# Remove URLs\n",
        "df['cleaned'] = df['cleaned'].str.replace(r'http\\S+|www\\S+|https\\S+', '', regex=True)\n",
        "\n",
        "# Remove mentions\n",
        "df['cleaned'] = df['cleaned'].str.replace(r'@\\w+', '', regex=True)\n",
        "\n",
        "# Remove hashtags (keep text)\n",
        "df['cleaned'] = df['cleaned'].str.replace(r'#', '', regex=True)\n",
        "\n",
        "# Remove extra spaces\n",
        "df['cleaned'] = df['cleaned'].str.replace(r'\\s+', ' ', regex=True)\n",
        "df['cleaned'] = df['cleaned'].str.strip()"
      ],
      "metadata": {
        "id": "nWRNxitQQVUD"
      },
      "execution_count": 25,
      "outputs": []
    },
    {
      "cell_type": "code",
      "source": [
        "# Show after cleaning\n",
        "for i in range(3):\n",
        "    print(f\"\\n{i+1}. {df.iloc[i]['cleaned']}\")"
      ],
      "metadata": {
        "colab": {
          "base_uri": "https://localhost:8080/"
        },
        "id": "7-TlvTufQebk",
        "outputId": "e5a9109c-094a-43eb-fa58-e47ef0b627c6"
      },
      "execution_count": 26,
      "outputs": [
        {
          "output_type": "stream",
          "name": "stdout",
          "text": [
            "\n",
            "1. AHHH I HOPE YOUR OK!!!\n",
            "\n",
            "2. cool , i have no tweet apps for my razr 2\n",
            "\n",
            "3. i know just family drama. its lame.hey next time u hang out with kim n u guys like have a sleepover or whatever, ill call u\n"
          ]
        }
      ]
    },
    {
      "cell_type": "markdown",
      "source": [
        "# **TASK 3: CASE FOLDING & TOKENIZATION**"
      ],
      "metadata": {
        "id": "qnVslS08QwVJ"
      }
    },
    {
      "cell_type": "code",
      "source": [
        "# Lowercase\n",
        "df['lowercase'] = df['cleaned'].str.lower()\n",
        "\n",
        "# Tokenize\n",
        "df['tokens'] = df['lowercase'].apply(word_tokenize)"
      ],
      "metadata": {
        "id": "Sv8U5I88Q0G3"
      },
      "execution_count": 30,
      "outputs": []
    },
    {
      "cell_type": "code",
      "source": [
        "# Vocabulary size\n",
        "vocab_before = set(' '.join(df['text']).lower().split())\n",
        "vocab_after = set([token for tokens in df['tokens'] for token in tokens])"
      ],
      "metadata": {
        "id": "CQBFT7pYRKPE"
      },
      "execution_count": 31,
      "outputs": []
    },
    {
      "cell_type": "code",
      "source": [
        "# Check\n",
        "print(f\"Original: {df.iloc[0]['text']}\")\n",
        "print(f\"Tokens: {df.iloc[0]['tokens'][:15]}\")"
      ],
      "metadata": {
        "colab": {
          "base_uri": "https://localhost:8080/"
        },
        "id": "-luS1OqeRO6X",
        "outputId": "ed938c16-8352-445b-d8aa-33383b565ddb"
      },
      "execution_count": 32,
      "outputs": [
        {
          "output_type": "stream",
          "name": "stdout",
          "text": [
            "Original: @chrishasboobs AHHH I HOPE YOUR OK!!! \n",
            "Tokens: ['ahhh', 'i', 'hope', 'your', 'ok', '!', '!', '!']\n"
          ]
        }
      ]
    },
    {
      "cell_type": "markdown",
      "source": [
        "# **TASK 4: STOPWORDS, PUNCTUATION, AND NUMBERS**"
      ],
      "metadata": {
        "id": "94x4ybeWRVTh"
      }
    },
    {
      "cell_type": "code",
      "source": [
        "stop_words = set(stopwords.words('english'))\n",
        "\n",
        "# Remove stopwords and punctuation\n",
        "filtered_tokens_list = []\n",
        "for tokens in df['tokens']:\n",
        "    filtered = []\n",
        "    for token in tokens:\n",
        "        # Skip stopwords\n",
        "        if token in stop_words:\n",
        "            continue\n",
        "        # Skip punctuation\n",
        "        if token in '!\"#$%&\\'()*+,-./:;<=>?@[\\\\]^_`{|}~':\n",
        "            continue\n",
        "        # Replace numbers\n",
        "        if token.isdigit():\n",
        "            filtered.append('<NUM>')\n",
        "        else:\n",
        "            filtered.append(token)\n",
        "    filtered_tokens_list.append(filtered)\n",
        "\n",
        "df['filtered_tokens'] = filtered_tokens_list"
      ],
      "metadata": {
        "id": "lDa9sFzBRRyz"
      },
      "execution_count": 33,
      "outputs": []
    },
    {
      "cell_type": "code",
      "source": [
        "vocab_filtered = set([token for tokens in df['filtered_tokens'] for token in tokens])"
      ],
      "metadata": {
        "id": "ezqsVb_0RePt"
      },
      "execution_count": 34,
      "outputs": []
    },
    {
      "cell_type": "markdown",
      "source": [
        "# **TASK 5: STEMMING VS LEMMATIZATION**"
      ],
      "metadata": {
        "id": "mFOvwMz4RkiY"
      }
    },
    {
      "cell_type": "code",
      "source": [
        "stemmer = PorterStemmer()\n",
        "\n",
        "# Apply stemming\n",
        "stemmed_list = []\n",
        "for tokens in df['filtered_tokens']:\n",
        "    stemmed = [stemmer.stem(token) for token in tokens]\n",
        "    stemmed_list.append(stemmed)\n",
        "df['stemmed'] = stemmed_list"
      ],
      "metadata": {
        "id": "OaOpaivARjE6"
      },
      "execution_count": 35,
      "outputs": []
    },
    {
      "cell_type": "code",
      "source": [
        "# Apply lemmatization (using spaCy on cleaned text)\n",
        "lemmatized_list = []\n",
        "for text in df['lowercase']:\n",
        "    doc = nlp(text)\n",
        "    lemmas = [token.lemma_ for token in doc if not token.is_space]\n",
        "    lemmatized_list.append(lemmas)\n",
        "df['lemmatized'] = lemmatized_list"
      ],
      "metadata": {
        "id": "VP6O1aoWRpBR"
      },
      "execution_count": 36,
      "outputs": []
    },
    {
      "cell_type": "code",
      "source": [
        "# Show 20 word comparison\n",
        "test_words = ['running', 'runs', 'ran', 'easily', 'better', 'best',\n",
        "              'loving', 'loved', 'cities', 'caring', 'happily', 'studies',\n",
        "              'studying', 'meeting', 'countries', 'fairly', 'argue',\n",
        "              'comfortable', 'happiness', 'runner']\n",
        "\n",
        "print(f\"{'Word':<15} {'Stem':<15} {'Lemma':<15}\")\n",
        "\n",
        "for word in test_words:\n",
        "    stem = stemmer.stem(word)\n",
        "    doc = nlp(word)\n",
        "    lemma = doc[0].lemma_\n",
        "    print(f\"{word:<15} {stem:<15} {lemma:<15}\")"
      ],
      "metadata": {
        "colab": {
          "base_uri": "https://localhost:8080/"
        },
        "id": "4nKc6NX4RqyZ",
        "outputId": "57165ab8-c11c-44e0-891d-7704a6c067e0"
      },
      "execution_count": 37,
      "outputs": [
        {
          "output_type": "stream",
          "name": "stdout",
          "text": [
            "Word            Stem            Lemma          \n",
            "running         run             run            \n",
            "runs            run             run            \n",
            "ran             ran             run            \n",
            "easily          easili          easily         \n",
            "better          better          well           \n",
            "best            best            well           \n",
            "loving          love            love           \n",
            "loved           love            love           \n",
            "cities          citi            city           \n",
            "caring          care            care           \n",
            "happily         happili         happily        \n",
            "studies         studi           study          \n",
            "studying        studi           study          \n",
            "meeting         meet            meeting        \n",
            "countries       countri         country        \n",
            "fairly          fairli          fairly         \n",
            "argue           argu            argue          \n",
            "comfortable     comfort         comfortable    \n",
            "happiness       happi           happiness      \n",
            "runner          runner          runner         \n"
          ]
        }
      ]
    },
    {
      "cell_type": "code",
      "source": [
        "# Prepare data\n",
        "X_stem = df['stemmed'].apply(lambda x: ' '.join(x))\n",
        "X_lemma = df['lemmatized'].apply(lambda x: ' '.join(x))\n",
        "y = df['target']"
      ],
      "metadata": {
        "id": "vZMrJ-Z7RvW1"
      },
      "execution_count": 38,
      "outputs": []
    },
    {
      "cell_type": "code",
      "source": [
        "X_train_s, X_test_s, y_train, y_test = train_test_split(X_stem, y, test_size=0.2, random_state=42)\n",
        "X_train_l, X_test_l, _, _ = train_test_split(X_lemma, y, test_size=0.2, random_state=42)"
      ],
      "metadata": {
        "id": "FqwHw3LvSFvc"
      },
      "execution_count": 39,
      "outputs": []
    },
    {
      "cell_type": "code",
      "source": [
        "# Stemming model\n",
        "vec_s = TfidfVectorizer(max_features=3000)\n",
        "X_train_s_vec = vec_s.fit_transform(X_train_s)\n",
        "X_test_s_vec = vec_s.transform(X_test_s)\n",
        "model_s = LogisticRegression(max_iter=1000)\n",
        "model_s.fit(X_train_s_vec, y_train)\n",
        "acc_s = accuracy_score(y_test, model_s.predict(X_test_s_vec))\n",
        "\n",
        "print(f\"Stemming accuracy: {acc_s:.4f}\")"
      ],
      "metadata": {
        "colab": {
          "base_uri": "https://localhost:8080/"
        },
        "id": "pddLWWKNSHzI",
        "outputId": "8ed68b03-193b-4a90-b7c0-3b1c22cf4ae4"
      },
      "execution_count": 42,
      "outputs": [
        {
          "output_type": "stream",
          "name": "stdout",
          "text": [
            "Stemming accuracy: 0.7322\n"
          ]
        }
      ]
    },
    {
      "cell_type": "code",
      "source": [
        "# Lemmatization model\n",
        "vec_l = TfidfVectorizer(max_features=3000)\n",
        "X_train_l_vec = vec_l.fit_transform(X_train_l)\n",
        "X_test_l_vec = vec_l.transform(X_test_l)\n",
        "model_l = LogisticRegression(max_iter=1000)\n",
        "model_l.fit(X_train_l_vec, y_train)\n",
        "acc_l = accuracy_score(y_test, model_l.predict(X_test_l_vec))\n",
        "\n",
        "print(f\"Lemmatization accuracy: {acc_l:.4f}\")"
      ],
      "metadata": {
        "colab": {
          "base_uri": "https://localhost:8080/"
        },
        "id": "qwZNNoURSKGe",
        "outputId": "a93538a5-f2fd-4e4d-f052-42a54a1305a6"
      },
      "execution_count": 43,
      "outputs": [
        {
          "output_type": "stream",
          "name": "stdout",
          "text": [
            "Lemmatization accuracy: 0.7578\n"
          ]
        }
      ]
    },
    {
      "cell_type": "markdown",
      "source": [
        "# **TASK 6: POS TAGGING**\n",
        "\n"
      ],
      "metadata": {
        "id": "kyUKGRdFSnZV"
      }
    },
    {
      "cell_type": "code",
      "source": [
        "# Extract POS counts\n",
        "noun_counts = []\n",
        "verb_counts = []\n",
        "adj_counts = []\n",
        "\n",
        "for text in df['lowercase']:\n",
        "    doc = nlp(text)\n",
        "    nouns = sum(1 for token in doc if token.pos_ == 'NOUN')\n",
        "    verbs = sum(1 for token in doc if token.pos_ == 'VERB')\n",
        "    adjs = sum(1 for token in doc if token.pos_ == 'ADJ')\n",
        "    noun_counts.append(nouns)\n",
        "    verb_counts.append(verbs)\n",
        "    adj_counts.append(adjs)\n",
        "\n",
        "df['noun_count'] = noun_counts\n",
        "df['verb_count'] = verb_counts\n",
        "df['adj_count'] = adj_counts\n",
        "\n",
        "print(\"\\nPOS Feature Examples:\")\n",
        "print(df[['cleaned', 'noun_count', 'verb_count', 'adj_count']].head(10))"
      ],
      "metadata": {
        "colab": {
          "base_uri": "https://localhost:8080/"
        },
        "id": "s-szE0-5Sdsz",
        "outputId": "ef645772-33cf-4c11-bd5a-e42f8d85dd71"
      },
      "execution_count": 44,
      "outputs": [
        {
          "output_type": "stream",
          "name": "stdout",
          "text": [
            "\n",
            "POS Feature Examples:\n",
            "                                             cleaned  noun_count  verb_count  \\\n",
            "0                             AHHH I HOPE YOUR OK!!!           0           1   \n",
            "1          cool , i have no tweet apps for my razr 2           3           1   \n",
            "2  i know just family drama. its lame.hey next ti...           7           3   \n",
            "3  School email won't open and I have geography s...           5           3   \n",
            "4                              upper airways problem           2           0   \n",
            "5          Going to miss Pastor's sermon on Faith...           3           2   \n",
            "6             on lunch....dj should come eat with me           1           2   \n",
            "7                  oh why are you feeling like that?           0           1   \n",
            "8     gahh noo!peyton needs to live!this is horrible           0           1   \n",
            "9  thank you glad you like it! There is a product...           4           4   \n",
            "\n",
            "   adj_count  \n",
            "0          0  \n",
            "1          0  \n",
            "2          2  \n",
            "3          1  \n",
            "4          1  \n",
            "5          0  \n",
            "6          0  \n",
            "7          0  \n",
            "8          1  \n",
            "9          1  \n"
          ]
        }
      ]
    },
    {
      "cell_type": "code",
      "source": [
        "# Compare models with/without POS\n",
        "X_text = df['lemmatized'].apply(lambda x: ' '.join(x))\n",
        "y = df['target']\n",
        "\n",
        "X_train, X_test, y_train, y_test = train_test_split(X_text, y, test_size=0.2, random_state=42)\n",
        "\n",
        "# Get POS features for train/test\n",
        "pos_features_train = df.loc[X_train.index, ['noun_count', 'verb_count', 'adj_count']].values\n",
        "pos_features_test = df.loc[X_test.index, ['noun_count', 'verb_count', 'adj_count']].values\n",
        "\n",
        "# Without POS\n",
        "vec = TfidfVectorizer(max_features=3000)\n",
        "X_train_vec = vec.fit_transform(X_train)\n",
        "X_test_vec = vec.transform(X_test)\n",
        "model = LogisticRegression(max_iter=1000)\n",
        "model.fit(X_train_vec, y_train)\n",
        "acc_without = accuracy_score(y_test, model.predict(X_test_vec))\n",
        "\n",
        "# With POS (combine features)\n",
        "from scipy.sparse import hstack\n",
        "X_train_combined = hstack([X_train_vec, pos_features_train])\n",
        "X_test_combined = hstack([X_test_vec, pos_features_test])\n",
        "model_pos = LogisticRegression(max_iter=1000)\n",
        "model_pos.fit(X_train_combined, y_train)\n",
        "acc_with = accuracy_score(y_test, model_pos.predict(X_test_combined))\n",
        "\n",
        "print(f\"Without POS features: {acc_without:.4f}\")\n",
        "print(f\"With POS features: {acc_with:.4f}\")"
      ],
      "metadata": {
        "colab": {
          "base_uri": "https://localhost:8080/"
        },
        "id": "evNS07ruS1GW",
        "outputId": "368ddb97-f958-4cfe-b286-290cc35dabc7"
      },
      "execution_count": 45,
      "outputs": [
        {
          "output_type": "stream",
          "name": "stdout",
          "text": [
            "Without POS features: 0.7578\n",
            "With POS features: 0.7622\n"
          ]
        }
      ]
    },
    {
      "cell_type": "markdown",
      "source": [
        "# **TASK 7: TEXT REPRESENTATION**"
      ],
      "metadata": {
        "id": "CdDPGxcuS-pB"
      }
    },
    {
      "cell_type": "code",
      "source": [
        "# Use lemmatized text\n",
        "X = df['lemmatized'].apply(lambda x: ' '.join(x))\n",
        "y = df['target']\n",
        "\n",
        "X_train, X_test, y_train, y_test = train_test_split(X, y, test_size=0.2, random_state=42)"
      ],
      "metadata": {
        "id": "5_EsmsJPS-O-"
      },
      "execution_count": 46,
      "outputs": []
    },
    {
      "cell_type": "code",
      "source": [
        "# 1. Bag of Words\n",
        "print(\"\\n1. Bag of Words (CountVectorizer)\")\n",
        "bow = CountVectorizer(max_features=3000)\n",
        "X_train_bow = bow.fit_transform(X_train)\n",
        "X_test_bow = bow.transform(X_test)\n",
        "print(f\"   Vocabulary: {len(bow.vocabulary_):,} words\")\n",
        "print(f\"   Shape: {X_train_bow.shape}\")"
      ],
      "metadata": {
        "colab": {
          "base_uri": "https://localhost:8080/"
        },
        "id": "qJyGowZHTEyE",
        "outputId": "491a2c8e-57c0-4b19-f1a8-4e95bcea451b"
      },
      "execution_count": 47,
      "outputs": [
        {
          "output_type": "stream",
          "name": "stdout",
          "text": [
            "\n",
            "1. Bag of Words (CountVectorizer)\n",
            "   Vocabulary: 3,000 words\n",
            "   Shape: (16000, 3000)\n"
          ]
        }
      ]
    },
    {
      "cell_type": "code",
      "source": [
        "# 2. TF-IDF\n",
        "print(\"\\n2. TF-IDF (TfidfVectorizer)\")\n",
        "tfidf = TfidfVectorizer(max_features=3000)\n",
        "X_train_tfidf = tfidf.fit_transform(X_train)\n",
        "X_test_tfidf = tfidf.transform(X_test)\n",
        "print(f\"   Vocabulary: {len(tfidf.vocabulary_):,} words\")\n",
        "print(f\"   Shape: {X_train_tfidf.shape}\")"
      ],
      "metadata": {
        "colab": {
          "base_uri": "https://localhost:8080/"
        },
        "id": "WLkI09FNTGJG",
        "outputId": "6c36536a-cf79-49b2-b26d-0c1389f4349c"
      },
      "execution_count": 48,
      "outputs": [
        {
          "output_type": "stream",
          "name": "stdout",
          "text": [
            "\n",
            "2. TF-IDF (TfidfVectorizer)\n",
            "   Vocabulary: 3,000 words\n",
            "   Shape: (16000, 3000)\n"
          ]
        }
      ]
    },
    {
      "cell_type": "code",
      "source": [
        "# 3. Word2Vec\n",
        "print(\"\\n3. Word2Vec (averaged embeddings)\")\n",
        "# Train Word2Vec on our data\n",
        "sentences = [tokens for tokens in df['filtered_tokens']]\n",
        "w2v = Word2Vec(sentences=sentences, vector_size=100, window=5, min_count=2, workers=4)\n",
        "print(f\"   Vocabulary: {len(w2v.wv):,} words\")\n",
        "print(f\"   Embedding size: {w2v.wv.vector_size}\")"
      ],
      "metadata": {
        "colab": {
          "base_uri": "https://localhost:8080/"
        },
        "id": "plxjVD8HTH8h",
        "outputId": "0aef912b-0cb5-40b1-bae2-81d6aa3a92cc"
      },
      "execution_count": 49,
      "outputs": [
        {
          "output_type": "stream",
          "name": "stdout",
          "text": [
            "\n",
            "3. Word2Vec (averaged embeddings)\n",
            "   Vocabulary: 8,305 words\n",
            "   Embedding size: 100\n"
          ]
        }
      ]
    },
    {
      "cell_type": "code",
      "source": [
        "# Average Word2Vec vectors\n",
        "X_train_w2v = []\n",
        "for text in X_train:\n",
        "    tokens = text.split()\n",
        "    vectors = [w2v.wv[token] for token in tokens if token in w2v.wv]\n",
        "    if vectors:\n",
        "        X_train_w2v.append(np.mean(vectors, axis=0))\n",
        "    else:\n",
        "        X_train_w2v.append(np.zeros(100))\n",
        "X_train_w2v = np.array(X_train_w2v)\n",
        "\n",
        "X_test_w2v = []\n",
        "for text in X_test:\n",
        "    tokens = text.split()\n",
        "    vectors = [w2v.wv[token] for token in tokens if token in w2v.wv]\n",
        "    if vectors:\n",
        "        X_test_w2v.append(np.mean(vectors, axis=0))\n",
        "    else:\n",
        "        X_test_w2v.append(np.zeros(100))\n",
        "X_test_w2v = np.array(X_test_w2v)\n",
        "\n",
        "X_train_w2v.shape"
      ],
      "metadata": {
        "colab": {
          "base_uri": "https://localhost:8080/"
        },
        "id": "N2_ZSlW_TKqK",
        "outputId": "d014ecdd-d9cf-43c6-85af-7a5518521528"
      },
      "execution_count": 51,
      "outputs": [
        {
          "output_type": "execute_result",
          "data": {
            "text/plain": [
              "(16000, 100)"
            ]
          },
          "metadata": {},
          "execution_count": 51
        }
      ]
    },
    {
      "cell_type": "code",
      "source": [
        "# Comparison table\n",
        "print(\"\\nRepresentation Summary:\")\n",
        "print(f\"{'Method':<20} {'Vocab':<10} {'Dimensions':<12} {'Sparse'}\")\n",
        "print(\"-\" * 55)\n",
        "print(f\"{'Bag of Words':<20} {len(bow.vocabulary_):<10} {X_train_bow.shape[1]:<12} Yes\")\n",
        "print(f\"{'TF-IDF':<20} {len(tfidf.vocabulary_):<10} {X_train_tfidf.shape[1]:<12} Yes\")\n",
        "print(f\"{'Word2Vec':<20} {len(w2v.wv):<10} {X_train_w2v.shape[1]:<12} No\")\n"
      ],
      "metadata": {
        "colab": {
          "base_uri": "https://localhost:8080/"
        },
        "id": "bDq5d0ZLTO5b",
        "outputId": "9f98dfdb-609b-4f45-91e6-23540d9df6da"
      },
      "execution_count": 52,
      "outputs": [
        {
          "output_type": "stream",
          "name": "stdout",
          "text": [
            "\n",
            "Representation Summary:\n",
            "Method               Vocab      Dimensions   Sparse\n",
            "-------------------------------------------------------\n",
            "Bag of Words         3000       3000         Yes\n",
            "TF-IDF               3000       3000         Yes\n",
            "Word2Vec             8305       100          No\n"
          ]
        }
      ]
    },
    {
      "cell_type": "markdown",
      "source": [
        "# **TASK 8: MODELING WITH PIPELINES**"
      ],
      "metadata": {
        "id": "Fne6Z8M6TUXs"
      }
    },
    {
      "cell_type": "code",
      "source": [
        "results = []"
      ],
      "metadata": {
        "id": "JVtekiRmTWjt"
      },
      "execution_count": 53,
      "outputs": []
    },
    {
      "cell_type": "code",
      "source": [
        "# 1. Naive Bayes with BoW\n",
        "pipe1 = Pipeline([\n",
        "    ('vectorizer', CountVectorizer(max_features=3000)),\n",
        "    ('classifier', MultinomialNB())\n",
        "])\n",
        "pipe1.fit(X_train, y_train)\n",
        "pred1 = pipe1.predict(X_test)\n",
        "acc1 = accuracy_score(y_test, pred1)\n",
        "f1_1 = f1_score(y_test, pred1, pos_label='positive')\n",
        "results.append(['Naive Bayes + BoW', acc1, f1_1])\n",
        "print(f\"Accuracy: {acc1:.4f}, F1: {f1_1:.4f}\")"
      ],
      "metadata": {
        "colab": {
          "base_uri": "https://localhost:8080/"
        },
        "id": "51dqkMooTb2a",
        "outputId": "fdc454b7-ff23-4fab-e1bc-e0023e78631c"
      },
      "execution_count": 54,
      "outputs": [
        {
          "output_type": "stream",
          "name": "stdout",
          "text": [
            "Accuracy: 0.7440, F1: 0.7435\n"
          ]
        }
      ]
    },
    {
      "cell_type": "code",
      "source": [
        "# 2. Naive Bayes with TF-IDF\n",
        "pipe2 = Pipeline([\n",
        "    ('vectorizer', TfidfVectorizer(max_features=3000)),\n",
        "    ('classifier', MultinomialNB())\n",
        "])\n",
        "pipe2.fit(X_train, y_train)\n",
        "pred2 = pipe2.predict(X_test)\n",
        "acc2 = accuracy_score(y_test, pred2)\n",
        "f1_2 = f1_score(y_test, pred2, pos_label='positive')\n",
        "results.append(['Naive Bayes + TF-IDF', acc2, f1_2])\n",
        "print(f\"   Accuracy: {acc2:.4f}, F1: {f1_2:.4f}\")"
      ],
      "metadata": {
        "colab": {
          "base_uri": "https://localhost:8080/"
        },
        "id": "5tz7X3zuTrqk",
        "outputId": "a7b03afc-4d98-4fa3-8a43-5edce53af7bb"
      },
      "execution_count": 58,
      "outputs": [
        {
          "output_type": "stream",
          "name": "stdout",
          "text": [
            "   Accuracy: 0.7352, F1: 0.7361\n"
          ]
        }
      ]
    },
    {
      "cell_type": "code",
      "source": [
        "# 3. Logistic Regression with BoW\n",
        "pipe3 = Pipeline([\n",
        "    ('vectorizer', CountVectorizer(max_features=3000)),\n",
        "    ('classifier', LogisticRegression(max_iter=1000))\n",
        "])\n",
        "pipe3.fit(X_train, y_train)\n",
        "pred3 = pipe3.predict(X_test)\n",
        "acc3 = accuracy_score(y_test, pred3)\n",
        "f1_3 = f1_score(y_test, pred3, pos_label='positive')\n",
        "results.append(['Logistic Regression + BoW', acc3, f1_3])\n",
        "print(f\"   Accuracy: {acc3:.4f}, F1: {f1_3:.4f}\")"
      ],
      "metadata": {
        "colab": {
          "base_uri": "https://localhost:8080/"
        },
        "id": "PWmKS4YnTvsU",
        "outputId": "42ed708f-dd37-4356-c114-da38fbe65097"
      },
      "execution_count": 59,
      "outputs": [
        {
          "output_type": "stream",
          "name": "stdout",
          "text": [
            "   Accuracy: 0.7455, F1: 0.7499\n"
          ]
        }
      ]
    },
    {
      "cell_type": "code",
      "source": [
        "# 4. Logistic Regression with TF-IDF\n",
        "pipe4 = Pipeline([\n",
        "    ('vectorizer', TfidfVectorizer(max_features=3000)),\n",
        "    ('classifier', LogisticRegression(max_iter=1000))\n",
        "])\n",
        "pipe4.fit(X_train, y_train)\n",
        "pred4 = pipe4.predict(X_test)\n",
        "acc4 = accuracy_score(y_test, pred4)\n",
        "f1_4 = f1_score(y_test, pred4, pos_label='positive')\n",
        "results.append(['Logistic Regression + TF-IDF', acc4, f1_4])\n",
        "print(f\"   Accuracy: {acc4:.4f}, F1: {f1_4:.4f}\")"
      ],
      "metadata": {
        "colab": {
          "base_uri": "https://localhost:8080/"
        },
        "id": "PRrvQml8Txkx",
        "outputId": "b3ae4189-10c3-40df-91da-d1debf3a66a7"
      },
      "execution_count": 61,
      "outputs": [
        {
          "output_type": "stream",
          "name": "stdout",
          "text": [
            "   Accuracy: 0.7578, F1: 0.7609\n"
          ]
        }
      ]
    },
    {
      "cell_type": "code",
      "source": [
        "# 5. Linear SVM with BoW\n",
        "pipe5 = Pipeline([\n",
        "    ('vectorizer', CountVectorizer(max_features=3000)),\n",
        "    ('classifier', LinearSVC(max_iter=2000))\n",
        "])\n",
        "pipe5.fit(X_train, y_train)\n",
        "pred5 = pipe5.predict(X_test)\n",
        "acc5 = accuracy_score(y_test, pred5)\n",
        "f1_5 = f1_score(y_test, pred5, pos_label='positive')\n",
        "results.append(['Linear SVM + BoW', acc5, f1_5])\n",
        "print(f\"   Accuracy: {acc5:.4f}, F1: {f1_5:.4f}\")"
      ],
      "metadata": {
        "colab": {
          "base_uri": "https://localhost:8080/"
        },
        "id": "vVbXpd-5TzMg",
        "outputId": "ae379fd8-892f-4c89-8e04-6df570561e11"
      },
      "execution_count": 62,
      "outputs": [
        {
          "output_type": "stream",
          "name": "stdout",
          "text": [
            "   Accuracy: 0.7300, F1: 0.7337\n"
          ]
        }
      ]
    },
    {
      "cell_type": "code",
      "source": [
        "# 6. Linear SVM with TF-IDF\n",
        "pipe6 = Pipeline([\n",
        "    ('vectorizer', TfidfVectorizer(max_features=3000)),\n",
        "    ('classifier', LinearSVC(max_iter=2000))\n",
        "])\n",
        "pipe6.fit(X_train, y_train)\n",
        "pred6 = pipe6.predict(X_test)\n",
        "acc6 = accuracy_score(y_test, pred6)\n",
        "f1_6 = f1_score(y_test, pred6, pos_label='positive')\n",
        "results.append(['Linear SVM + TF-IDF', acc6, f1_6])\n",
        "print(f\" Accuracy: {acc6:.4f}, F1: {f1_6:.4f}\")"
      ],
      "metadata": {
        "colab": {
          "base_uri": "https://localhost:8080/"
        },
        "id": "BVaJffC4T044",
        "outputId": "1746430e-4e68-4a35-a3f3-b85d56e0979f"
      },
      "execution_count": 63,
      "outputs": [
        {
          "output_type": "stream",
          "name": "stdout",
          "text": [
            " Accuracy: 0.7415, F1: 0.7447\n"
          ]
        }
      ]
    },
    {
      "cell_type": "code",
      "source": [
        "# Comparison table\n",
        "print(\"MODEL COMPARISON TABLE\")\n",
        "print(f\"{'Model':<35} {'Accuracy':<12} {'F1-Score'}\")\n",
        "print(\"-\" * 60)\n",
        "for row in results:\n",
        "    print(f\"{row[0]:<35} {row[1]:<12.4f} {row[2]:.4f}\")"
      ],
      "metadata": {
        "colab": {
          "base_uri": "https://localhost:8080/"
        },
        "id": "zxRbaQZtT2Z4",
        "outputId": "9e9f1753-e1bc-4ec2-bc51-2382ba02962f"
      },
      "execution_count": 64,
      "outputs": [
        {
          "output_type": "stream",
          "name": "stdout",
          "text": [
            "MODEL COMPARISON TABLE\n",
            "Model                               Accuracy     F1-Score\n",
            "------------------------------------------------------------\n",
            "Naive Bayes + BoW                   0.7440       0.7435\n",
            "Naive Bayes + TF-IDF                0.7352       0.7361\n",
            "Naive Bayes + TF-IDF                0.7352       0.7361\n",
            "Logistic Regression + BoW           0.7455       0.7499\n",
            "Naive Bayes + TF-IDF                0.7352       0.7361\n",
            "Logistic Regression + BoW           0.7455       0.7499\n",
            "Linear SVM + TF-IDF                 0.7415       0.7447\n",
            "Logistic Regression + TF-IDF        0.7578       0.7609\n",
            "Linear SVM + BoW                    0.7300       0.7337\n",
            "Linear SVM + TF-IDF                 0.7415       0.7447\n"
          ]
        }
      ]
    },
    {
      "cell_type": "code",
      "source": [
        "# Find best model\n",
        "best_idx = max(range(len(results)), key=lambda i: results[i][2])\n",
        "print(f\"Best Model: {results[best_idx][0]}\")\n",
        "print(f\"Accuracy: {results[best_idx][1]:.4f}\")\n",
        "print(f\"F1-Score: {results[best_idx][2]:.4f}\")"
      ],
      "metadata": {
        "colab": {
          "base_uri": "https://localhost:8080/"
        },
        "id": "Fa492O9rT4Bx",
        "outputId": "48ca3601-6b54-4b76-ccc6-5b5697cfbc5b"
      },
      "execution_count": 65,
      "outputs": [
        {
          "output_type": "stream",
          "name": "stdout",
          "text": [
            "Best Model: Logistic Regression + TF-IDF\n",
            "Accuracy: 0.7578\n",
            "F1-Score: 0.7609\n"
          ]
        }
      ]
    },
    {
      "cell_type": "markdown",
      "source": [
        "# **TASK 9: EVALUATION & ERROR ANALYSIS**"
      ],
      "metadata": {
        "id": "N0xs4r0pUVmy"
      }
    },
    {
      "cell_type": "code",
      "source": [
        "# Use best model (Logistic Regression + TF-IDF)\n",
        "best_model = pipe4\n",
        "y_pred = best_model.predict(X_test)"
      ],
      "metadata": {
        "id": "RiAZBDhAUUPT"
      },
      "execution_count": 66,
      "outputs": []
    },
    {
      "cell_type": "code",
      "source": [
        "# Classification report\n",
        "print(classification_report(y_test, y_pred))"
      ],
      "metadata": {
        "colab": {
          "base_uri": "https://localhost:8080/"
        },
        "id": "RYiECwPYUmkh",
        "outputId": "887eebbb-bcb9-43dd-999d-e3a95da62bb5"
      },
      "execution_count": 68,
      "outputs": [
        {
          "output_type": "stream",
          "name": "stdout",
          "text": [
            "              precision    recall  f1-score   support\n",
            "\n",
            "    negative       0.76      0.75      0.75      1987\n",
            "    positive       0.76      0.77      0.76      2013\n",
            "\n",
            "    accuracy                           0.76      4000\n",
            "   macro avg       0.76      0.76      0.76      4000\n",
            "weighted avg       0.76      0.76      0.76      4000\n",
            "\n"
          ]
        }
      ]
    },
    {
      "cell_type": "code",
      "source": [
        "# Confusion matrix\n",
        "cm = confusion_matrix(y_test, y_pred, labels=['negative', 'positive'])\n",
        "print(\"\\nConfusion Matrix:\")\n",
        "print(f\"                Predicted\")\n",
        "print(f\"              Neg      Pos\")\n",
        "print(f\"Actual Neg  {cm[0][0]:5d}    {cm[0][1]:5d}\")\n",
        "print(f\"       Pos  {cm[1][0]:5d}    {cm[1][1]:5d}\")"
      ],
      "metadata": {
        "colab": {
          "base_uri": "https://localhost:8080/"
        },
        "id": "XWvEMVedUqYN",
        "outputId": "9aa94620-60c0-423b-a784-d5cd7f1018db"
      },
      "execution_count": 69,
      "outputs": [
        {
          "output_type": "stream",
          "name": "stdout",
          "text": [
            "\n",
            "Confusion Matrix:\n",
            "                Predicted\n",
            "              Neg      Pos\n",
            "Actual Neg   1489      498\n",
            "       Pos    471     1542\n"
          ]
        }
      ]
    },
    {
      "cell_type": "code",
      "source": [
        "# Plot confusion matrix\n",
        "plt.figure(figsize=(6, 5))\n",
        "sns.heatmap(cm, annot=True, fmt='d', cmap='Blues',\n",
        "            xticklabels=['negative', 'positive'],\n",
        "            yticklabels=['negative', 'positive'])\n",
        "plt.title('Confusion Matrix')\n",
        "plt.ylabel('True Label')\n",
        "plt.xlabel('Predicted Label')\n",
        "plt.tight_layout()\n",
        "plt.savefig('confusion_matrix.png')\n",
        "plt.show()"
      ],
      "metadata": {
        "colab": {
          "base_uri": "https://localhost:8080/",
          "height": 507
        },
        "id": "QbY57OzxUyEB",
        "outputId": "c191a792-1a82-48ce-d321-ea7fee7f0f96"
      },
      "execution_count": 70,
      "outputs": [
        {
          "output_type": "display_data",
          "data": {
            "text/plain": [
              "<Figure size 600x500 with 2 Axes>"
            ],
            "image/png": "[encoded data removed]"
          },
          "metadata": {}
        }
      ]
    },
    {
      "cell_type": "markdown",
      "source": [
        "### Error analysis - 10 misclassified tweets"
      ],
      "metadata": {
        "id": "GQKydm7YVCLQ"
      }
    },
    {
      "cell_type": "code",
      "source": [
        "# Get original tweets for test set\n",
        "test_indices = X_test.index\n",
        "test_tweets = df.loc[test_indices, 'text'].values\n",
        "y_test_array = y_test.values\n",
        "\n",
        "# Find misclassified\n",
        "misclassified = y_pred != y_test_array\n",
        "misclassified_indices = np.where(misclassified)[0][:10]\n",
        "\n",
        "for i, idx in enumerate(misclassified_indices, 1):\n",
        "    true_label = y_test_array[idx]\n",
        "    pred_label = y_pred[idx]\n",
        "    tweet = test_tweets[idx]\n",
        "    print(f\"\\n{i}. TRUE: {true_label} | PREDICTED: {pred_label}\")\n",
        "    print(f\"   {tweet}\")"
      ],
      "metadata": {
        "colab": {
          "base_uri": "https://localhost:8080/"
        },
        "id": "NS1oQjK9U0gs",
        "outputId": "4f0f812f-9892-4315-a474-69569f391048"
      },
      "execution_count": 71,
      "outputs": [
        {
          "output_type": "stream",
          "name": "stdout",
          "text": [
            "\n",
            "1. TRUE: negative | PREDICTED: positive\n",
            "   @lolstephy pls just shutup about splendour n dont talk about it till next year... \n",
            "\n",
            "2. TRUE: negative | PREDICTED: positive\n",
            "   they added a new zodiac sign. i wanna be a scorpio forever! \n",
            "\n",
            "3. TRUE: positive | PREDICTED: negative\n",
            "   Ooh... IE8 looks kinda flasher than 7, and it does seem a fair bit quicker. I'm still gonna stick with FF \n",
            "\n",
            "4. TRUE: negative | PREDICTED: positive\n",
            "   is craving for macha chocolate cake \n",
            "\n",
            "5. TRUE: negative | PREDICTED: positive\n",
            "   @TheIanCrawford .. \n",
            "\n",
            "6. TRUE: negative | PREDICTED: positive\n",
            "   Gmorning twitts! Ready for the wknd.. But first off to work  T.G.I.F \n",
            "\n",
            "7. TRUE: negative | PREDICTED: positive\n",
            "   @TravisKaimi Zaru Soba is cold buckwheat noodles with this yummy dipping sauce  anddd a bento box is a Japanese lunch box. I love food \n",
            "\n",
            "8. TRUE: positive | PREDICTED: negative\n",
            "   @kylepetty  @kenny_wallace - I can't believe Kenny hasn't said a word yet. \n",
            "\n",
            "9. TRUE: negative | PREDICTED: positive\n",
            "   @deeliciouz that sounds lovely! I aNt my hair kissed \n",
            "\n",
            "10. TRUE: negative | PREDICTED: positive\n",
            "   Lollapalooza schedule is full of conflicts for me.  How will I ever decide?\n"
          ]
        }
      ]
    },
    {
      "cell_type": "markdown",
      "source": [
        "### Why these are difficult:\n",
        "- Sarcasm (positive words used negatively)\n",
        "- Context-dependent meaning\n",
        "- Neutral or mixed sentiment\n",
        "- Slang and informal language\n",
        "- Missing context or incomplete thoughts"
      ],
      "metadata": {
        "id": "ukoPsd9EVPva"
      }
    },
    {
      "cell_type": "markdown",
      "source": [
        "# **TASK 10: SAVE MODEL PIPELINE**"
      ],
      "metadata": {
        "id": "IdW2COtwVVgC"
      }
    },
    {
      "cell_type": "code",
      "source": [
        "# Save the best pipeline\n",
        "joblib.dump(best_model, 'sentiment_model.pkl')\n",
        "print(\"Model saved as: sentiment_model.pkl\")"
      ],
      "metadata": {
        "colab": {
          "base_uri": "https://localhost:8080/"
        },
        "id": "EO0B7ucSVK2c",
        "outputId": "12cd8e37-5e00-4fd7-97d9-d4e48bb196b2"
      },
      "execution_count": 73,
      "outputs": [
        {
          "output_type": "stream",
          "name": "stdout",
          "text": [
            "Model saved as: sentiment_model.pkl\n"
          ]
        }
      ]
    },
    {
      "cell_type": "code",
      "source": [
        "# Test loading\n",
        "loaded_model = joblib.load('sentiment_model.pkl')\n",
        "test_pred = loaded_model.predict(X_test[:3])\n",
        "print(f\"Test predictions: {test_pred}\")\n",
        "print(\"Model loaded successfully!\")"
      ],
      "metadata": {
        "colab": {
          "base_uri": "https://localhost:8080/"
        },
        "id": "b_7H0f_WVdoC",
        "outputId": "a8226300-e149-41ad-9781-6a979aa469d9"
      },
      "execution_count": 74,
      "outputs": [
        {
          "output_type": "stream",
          "name": "stdout",
          "text": [
            "Test predictions: ['negative' 'negative' 'negative']\n",
            "Model loaded successfully!\n"
          ]
        }
      ]
    },
    {
      "cell_type": "markdown",
      "source": [
        "# **TASK 11: FLASK API**"
      ],
      "metadata": {
        "id": "tTKuycQ1Vo6S"
      }
    },
    {
      "cell_type": "markdown",
      "source": [
        "**The code made in app.py:**\n",
        "\n",
        "\n",
        "```\n",
        "from flask import Flask, request, jsonify\n",
        "import joblib\n",
        "import re\n",
        "\n",
        "# Load model\n",
        "model = joblib.load(\"X:/Projects/Sentiment Analysis Task/sentiment_model.pkl\")\n",
        "\n",
        "app = Flask(__name__)\n",
        "\n",
        "\n",
        "@app.route('/')\n",
        "def home():\n",
        "    return jsonify({'message': 'Sentiment Analysis API', 'status': 'running'})\n",
        "\n",
        "\n",
        "@app.route('/predict', methods=['POST'])\n",
        "def predict():\n",
        "    # Get tweet from request\n",
        "    data = request.get_json()\n",
        "    tweet = data.get('tweet', '')\n",
        "\n",
        "    if not tweet:\n",
        "        return jsonify({'error': 'No tweet provided'}), 400\n",
        "\n",
        "    # Clean tweet\n",
        "    cleaned = re.sub(r'http\\S+|www\\S+|https\\S+', '', tweet)\n",
        "    cleaned = re.sub(r'@\\w+', '', cleaned)\n",
        "    cleaned = re.sub(r'#', '', cleaned)\n",
        "    cleaned = re.sub(r'\\s+', ' ', cleaned).strip()\n",
        "\n",
        "    # Simple preprocessing - just lowercase (same as what the model expects)\n",
        "    processed = cleaned.lower()\n",
        "\n",
        "    # Predict\n",
        "    prediction = model.predict([processed])[0]\n",
        "\n",
        "    return jsonify({\n",
        "        'tweet': tweet,\n",
        "        'sentiment': prediction,\n",
        "        'processed_text': processed\n",
        "    })\n",
        "\n",
        "\n",
        "if __name__ == '__main__':\n",
        "    app.run(debug=True, port=5000)\n",
        "```\n",
        "\n"
      ],
      "metadata": {
        "id": "OofPEYH-naZD"
      }
    },
    {
      "cell_type": "markdown",
      "source": [
        "**Tested:**"
      ],
      "metadata": {
        "id": "8KKpbEEAnvlr"
      }
    },
    {
      "cell_type": "markdown",
      "source": [
        "![Screenshot 2025-10-02 000534.png](data:image/png;base64,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)"
      ],
      "metadata": {
        "id": "XSaDBshCnGxi"
      }
    },
    {
      "cell_type": "markdown",
      "source": [
        "#**Final Short Report**\n",
        "\n",
        "## Dataset\n",
        "- **Source**: Sentiment140 dataset\n",
        "- **Size**: 20,000 tweets (10,000 positive, 10,000 negative)\n",
        "- **Task**: Binary sentiment classification\n",
        "\n",
        "---\n",
        "\n",
        "## Preprocessing Steps\n",
        "\n",
        "1. **Regex Cleaning**: Removed URLs, mentions (@user), hashtags (#)\n",
        "2. **Tokenization**: Lowercased and split into words using NLTK\n",
        "3. **Stopwords/Punctuation**: Removed common words and punctuation\n",
        "4. **Lemmatization**: Used spaCy (performed better than stemming)\n",
        "5. **POS Tagging**: Added noun/verb/adjective counts as extra features\n",
        "\n",
        "---\n",
        "\n",
        "## Text Representations\n",
        "\n",
        "| Method | Vocabulary | Features |\n",
        "|--------|-----------|----------|\n",
        "| Bag of Words | 3,000 | Sparse |\n",
        "| TF-IDF | 3,000 | Sparse (weighted) |\n",
        "| Word2Vec | ~15,000 | Dense (100-dim) |\n",
        "\n",
        "**Best**: TF-IDF performed best for this dataset size.\n",
        "\n",
        "---\n",
        "\n",
        "## Model Results\n",
        "\n",
        "| Model | Accuracy | F1-Score |\n",
        "|-------|----------|----------|\n",
        "| Naive Bayes + BoW | 76.2% | 75.8% |\n",
        "| Naive Bayes + TF-IDF | 77.0% | 76.5% |\n",
        "| **Logistic Regression + TF-IDF** | **78.1%** | **78.0%** |\n",
        "| Linear SVM + TF-IDF | 77.9% | 77.7% |\n",
        "\n",
        "**Best Model**: Logistic Regression + TF-IDF\n",
        "- Good balance of accuracy and speed\n",
        "- Provides probability scores for predictions\n",
        "\n",
        "---\n",
        "\n",
        "## Key Findings\n",
        "\n",
        "- **Lemmatization** slightly better than stemming (~0.5% improvement)\n",
        "- **TF-IDF** outperformed BoW by weighting important words\n",
        "- **Common errors**: Sarcasm, context-dependent phrases, slang\n",
        "- POS features added minimal improvement but useful for analysis\n",
        "\n",
        "---\n",
        "\n",
        "## Deployment\n",
        "\n",
        "- Saved best pipeline as `sentiment_model.pkl`\n",
        "- Built Flask API with `/predict` endpoint\n",
        "- API successfully predicts sentiment from tweet text\n",
        "- Ready for production use\n",
        "\n",
        "---\n",
        "\n",
        "## Conclusion\n",
        "\n",
        "Successfully built an end-to-end NLP pipeline achieving 78% accuracy on Twitter sentiment classification. The model handles real-world noisy text and is deployable via REST API."
      ],
      "metadata": {
        "id": "OBRO7BTSkXHI"
      }
    }
  ]
}